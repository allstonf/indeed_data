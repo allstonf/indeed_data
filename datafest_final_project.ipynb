{
 "cells": [
  {
   "cell_type": "code",
   "execution_count": 178,
   "metadata": {
    "collapsed": true
   },
   "outputs": [],
   "source": [
    "%matplotlib inline\n",
    "\n",
    "import numpy as np\n",
    "import pandas as pd\n",
    "import matplotlib.pyplot as plt\n",
    "\n",
    "from collections import Counter"
   ]
  },
  {
   "cell_type": "code",
   "execution_count": 193,
   "metadata": {
    "collapsed": false
   },
   "outputs": [
    {
     "data": {
      "text/plain": [
       "management       465\n",
       "food             446\n",
       "retail           434\n",
       "mednurse         407\n",
       "driver           389\n",
       "install          378\n",
       "education        357\n",
       "customer         354\n",
       "admin            353\n",
       "sales            350\n",
       "childcare        336\n",
       "therapy          306\n",
       "uncategorized    288\n",
       "medtech          274\n",
       "sanitation       273\n",
       "service          267\n",
       "accounting       253\n",
       "warehouse        247\n",
       "manufacturing    199\n",
       "care             194\n",
       "techsoftware     191\n",
       "protective       187\n",
       "hr               173\n",
       "marketing        171\n",
       "construction     160\n",
       "pharmacy         159\n",
       "techinfo         158\n",
       "meddr            154\n",
       "techhelp         150\n",
       "project          148\n",
       "medinfo          128\n",
       "personal         124\n",
       "sports           119\n",
       "science          118\n",
       "finance          112\n",
       "meddental        109\n",
       "engid            106\n",
       "insurance         98\n",
       "hospitality       98\n",
       "veterinary        96\n",
       "legal             92\n",
       "arts              91\n",
       "realestate        84\n",
       "media             76\n",
       "transport         70\n",
       "math              68\n",
       "engmech           61\n",
       "engelectric       58\n",
       "arch              47\n",
       "engcivil          37\n",
       "socialscience     32\n",
       "aviation          18\n",
       "military          14\n",
       "engchem           11\n",
       "agriculture        9\n",
       "mining             4\n",
       "tech               4\n",
       "Name: 1, dtype: int64"
      ]
     },
     "execution_count": 193,
     "metadata": {},
     "output_type": "execute_result"
    }
   ],
   "source": [
    "# Import local clicks data into dataframe\n",
    "locals_per_cc_df = pd.read_csv(\"total-locals-per-cc.csv\", header=None)\n",
    "\n",
    "# sort by clicks\n",
    "locals_per_cc_df_copy = locals_per_cc_df.copy()\n",
    "locals_per_cc_df_copy = locals_per_cc_df_copy.sort_values(0)\n",
    "locals_per_cc_df_copy[1].value_counts()\n",
    "# locals_per_cc_df_copy.head()"
   ]
  },
  {
   "cell_type": "code",
   "execution_count": 180,
   "metadata": {
    "collapsed": false
   },
   "outputs": [],
   "source": [
    "# Import population data into dataframe\n",
    "population_df = pd.read_csv(\"populations.csv\")\n",
    "\n",
    "# sort by population\n",
    "population_df_copy = population_df.copy()\n",
    "population_df_copy = population_df_copy[['city','Population']]\n",
    "population_df_copy = population_df_copy.dropna()\n",
    "# population_df_copy.head()"
   ]
  },
  {
   "cell_type": "code",
   "execution_count": 181,
   "metadata": {
    "collapsed": false
   },
   "outputs": [],
   "source": [
    "# Import unique jobs data into dataframe\n",
    "unique_jobs_per_cc_df = pd.read_csv(\"total-unique-jobs-per-cc.csv\", header=None)\n",
    "\n",
    "# sort by most jobs\n",
    "unique_jobs_per_cc_df_copy = unique_jobs_per_cc_df.copy()\n",
    "unique_jobs_per_cc_df_copy = unique_jobs_per_cc_df_copy.sort_values(0)\n",
    "# unique_jobs_per_cc_df_copy.head()\n",
    "# unique_jobs_per_cc_df_copy.shape"
   ]
  },
  {
   "cell_type": "code",
   "execution_count": 182,
   "metadata": {
    "collapsed": false
   },
   "outputs": [],
   "source": [
    "# Import salary data into dataframe\n",
    "salary_per_cc_df = pd.read_csv(\"avg-salary-per-cc.csv\", header=None)\n",
    "\n",
    "# sort by clicks\n",
    "salary_per_cc_df_copy = salary_per_cc_df.copy()\n",
    "salary_per_cc_df_copy = salary_per_cc_df_copy.sort_values(0)\n",
    "# salary_per_cc_df_copy.head()"
   ]
  },
  {
   "cell_type": "code",
   "execution_count": 183,
   "metadata": {
    "collapsed": false
   },
   "outputs": [],
   "source": [
    "# Import MSA data into dataframe\n",
    "msa_df = pd.read_csv(\"MSA_Counties_Cities.csv\")\n",
    "\n",
    "# sort by clicks\n",
    "msa_df_copy = msa_df.copy()\n",
    "# msa_df_copy.head()"
   ]
  },
  {
   "cell_type": "code",
   "execution_count": 184,
   "metadata": {
    "collapsed": false
   },
   "outputs": [],
   "source": [
    "# Import total clicks data into dataframe\n",
    "clicks_per_cc_df = pd.read_csv(\"total-clicks-per-cc.csv\", header=None)\n",
    "\n",
    "# sort by clicks\n",
    "clicks_per_cc_df_copy = clicks_per_cc_df.copy()\n",
    "clicks_per_cc_df_copy = clicks_per_cc_df_copy.sort_values(0)\n",
    "# clicks_per_cc_df_copy.head()\n",
    "# clicks_per_cc_df_copy\n",
    "# clicks_per_cc_df_copy.shape"
   ]
  },
  {
   "cell_type": "code",
   "execution_count": 185,
   "metadata": {
    "collapsed": true
   },
   "outputs": [],
   "source": [
    "def sortInterest(category): \n",
    "#     # check if category is not in dataframe to return the dataframe's size, which represents the worst city\n",
    "#     if category not in locals_per_cc_df_copy[1]:\n",
    "#         return len(locals_per_cc_df_copy.index)\n",
    "    \n",
    "    # final variable to test function\n",
    "    CATEGORY = category\n",
    "\n",
    "    # only given category, total local clicks\n",
    "    local_clicks = locals_per_cc_df_copy.where(locals_per_cc_df_copy[1] == CATEGORY).dropna(subset=[1])\n",
    "\n",
    "    # assume population is imported correctly; join with cities and drop any NaN\n",
    "    local_clicks = pd.merge(local_clicks, population_df_copy, left_on=0, right_on='city')\n",
    "    local_clicks = local_clicks.dropna()\n",
    "\n",
    "    # make Interest column\n",
    "    local_clicks['Interest'] = local_clicks[2] / local_clicks['Population']\n",
    "\n",
    "    # sort based on highest Interest level at top\n",
    "    local_clicks.sort_values('Interest', ascending=True, inplace=True)\n",
    "\n",
    "    citiesInterest = local_clicks[0].values\n",
    "    \n",
    "    return citiesInterest\n"
   ]
  },
  {
   "cell_type": "code",
   "execution_count": 186,
   "metadata": {
    "collapsed": true
   },
   "outputs": [],
   "source": [
    "def sortAvailability(category):\n",
    "#     # check if category is not in dataframe to return the dataframe's size, which represents the worst city\n",
    "#     if category not in unique_jobs_per_cc_df_copy[1]:\n",
    "#         return len(unique_jobs_per_cc_df_copy.index)\n",
    "    \n",
    "    # final variable to test function\n",
    "    CATEGORY = category\n",
    "\n",
    "    # only given category, total local clicks\n",
    "    number_jobs = unique_jobs_per_cc_df_copy.where(unique_jobs_per_cc_df_copy[1] == CATEGORY).dropna(subset=[1])\n",
    "\n",
    "    # assume population is imported correctly; join with cities and drop any NaN\n",
    "    number_jobs = pd.merge(number_jobs, population_df_copy, left_on=0, right_on='city')\n",
    "    number_jobs = number_jobs.dropna()\n",
    "\n",
    "    # make Availability column\n",
    "    number_jobs['Availability'] = number_jobs[2] / number_jobs['Population']\n",
    "\n",
    "    # sort based on highest Availability level at top\n",
    "    number_jobs.sort_values('Availability', ascending=False, inplace=True)\n",
    "\n",
    "    citiesAvailability = number_jobs[0].values\n",
    "    \n",
    "    return citiesAvailability"
   ]
  },
  {
   "cell_type": "code",
   "execution_count": 187,
   "metadata": {
    "collapsed": true
   },
   "outputs": [],
   "source": [
    "def sortQuality(category):\n",
    "#     # check if category is not in dataframe to return the dataframe's size, which represents the worst city\n",
    "#     if category not in salary_per_cc_df_copy[1]:\n",
    "#         return len(salary_per_cc_df_copy.index)\n",
    "    \n",
    "    # final variable to test function\n",
    "    CATEGORY = category\n",
    "\n",
    "    # only given category, total local clicks\n",
    "    salary = salary_per_cc_df_copy.where(salary_per_cc_df_copy[1] == CATEGORY).dropna(subset=[1])\n",
    "\n",
    "    # assume population is imported correctly; join with cities and drop any NaN\n",
    "#     salary = salary.join(msa_df_copy, on=\"CITY \")\n",
    "    salary = pd.merge(salary, msa_df_copy, left_on=0, right_on='CITY')\n",
    "#     print(salary)\n",
    "    salary = salary.dropna()\n",
    "\n",
    "    # make Availability column\n",
    "    salary['Quality'] = salary[2] / salary['C.O.L']\n",
    "\n",
    "    # sort based on highest Availability level at top\n",
    "    salary.sort_values('Quality', ascending=False, inplace=True)\n",
    "\n",
    "    citiesQuality = salary[0].values\n",
    "    \n",
    "    return citiesQuality"
   ]
  },
  {
   "cell_type": "code",
   "execution_count": 190,
   "metadata": {
    "collapsed": false
   },
   "outputs": [],
   "source": [
    "def calculateRank(category):\n",
    "    cities = clicks_per_cc_df_copy[0].unique()\n",
    "    \n",
    "    # calculate Interest, Availability, and Quality\n",
    "    interest = sortInterest(category)\n",
    "    availability = sortAvailability(category)\n",
    "    quality = sortQuality(category)\n",
    "    \n",
    "    cities_scores = {}\n",
    "    \n",
    "    for city in cities:\n",
    "        total_rank = 0\n",
    "        try:\n",
    "            total_rank += np.argwhere(interest == city).item()\n",
    "            total_rank += np.argwhere(availability == city).item()\n",
    "            total_rank += np.argwhere(quality == city).item()\n",
    "        except:\n",
    "            total_rank = 480\n",
    "            \n",
    "        cities_scores[city] = total_rank\n",
    "    \n",
    "    cities_rev = {v: k for k, v in cities_scores.items()}\n",
    "    cities_rev = dict(sorted(cities_rev.items()))\n",
    "    cities_ranked = [v for k, v in cities_rev.items()]\n",
    "    return cities_ranked[:5], [cities_scores[city] for city in cities_ranked[:5]], cities_ranked[-4:], [cities_scores[city] for city in cities_ranked[-4:]]\n",
    "#     return cities_ranked[:5], cities_ranked[-3:]\n",
    "    \n",
    "    "
   ]
  },
  {
   "cell_type": "code",
   "execution_count": 194,
   "metadata": {
    "collapsed": false
   },
   "outputs": [
    {
     "name": "stdout",
     "output_type": "stream",
     "text": [
      "(['Signal Hill', 'Montclair', 'Indian Wells', 'Arvin', 'Malibu'], [156, 202, 210, 213, 235], ['Desert Hot Springs', 'Indio', 'Santee', 'Woodland'], [580, 586, 587, 658])\n"
     ]
    }
   ],
   "source": [
    "print(calculateRank(\"retail\"))"
   ]
  },
  {
   "cell_type": "code",
   "execution_count": 192,
   "metadata": {
    "collapsed": false
   },
   "outputs": [],
   "source": [
    "# sortAvailability('math')"
   ]
  },
  {
   "cell_type": "code",
   "execution_count": 67,
   "metadata": {
    "collapsed": false
   },
   "outputs": [],
   "source": [
    "d = {'c':9,'b':8}\n",
    "d_rev = {v: k for k, v in d.items()}"
   ]
  },
  {
   "cell_type": "code",
   "execution_count": 9,
   "metadata": {
    "collapsed": false
   },
   "outputs": [
    {
     "data": {
      "text/plain": [
       "{8: 'b', 9: 'c'}"
      ]
     },
     "execution_count": 9,
     "metadata": {},
     "output_type": "execute_result"
    }
   ],
   "source": [
    "dict(sorted(d_rev.items()))"
   ]
  },
  {
   "cell_type": "code",
   "execution_count": 70,
   "metadata": {
    "collapsed": true
   },
   "outputs": [],
   "source": [
    "c = {}"
   ]
  },
  {
   "cell_type": "code",
   "execution_count": 71,
   "metadata": {
    "collapsed": true
   },
   "outputs": [],
   "source": [
    "c['Sanfranbisbo'] = 480"
   ]
  },
  {
   "cell_type": "code",
   "execution_count": 72,
   "metadata": {
    "collapsed": false
   },
   "outputs": [
    {
     "data": {
      "text/plain": [
       "{'Sanfranbisbo': 480}"
      ]
     },
     "execution_count": 72,
     "metadata": {},
     "output_type": "execute_result"
    }
   ],
   "source": [
    "c"
   ]
  },
  {
   "cell_type": "code",
   "execution_count": 73,
   "metadata": {
    "collapsed": false
   },
   "outputs": [
    {
     "data": {
      "text/plain": [
       "dict_items([('Sanfranbisbo', 480)])"
      ]
     },
     "execution_count": 73,
     "metadata": {},
     "output_type": "execute_result"
    }
   ],
   "source": [
    "c.items()"
   ]
  },
  {
   "cell_type": "code",
   "execution_count": null,
   "metadata": {
    "collapsed": true
   },
   "outputs": [],
   "source": []
  }
 ],
 "metadata": {
  "kernelspec": {
   "display_name": "Python 3",
   "language": "python",
   "name": "python3"
  },
  "language_info": {
   "codemirror_mode": {
    "name": "ipython",
    "version": 3
   },
   "file_extension": ".py",
   "mimetype": "text/x-python",
   "name": "python",
   "nbconvert_exporter": "python",
   "pygments_lexer": "ipython3",
   "version": "3.6.0"
  }
 },
 "nbformat": 4,
 "nbformat_minor": 2
}
